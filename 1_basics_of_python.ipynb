{
 "cells": [
  {
   "cell_type": "markdown",
   "id": "542d0622",
   "metadata": {},
   "source": [
    "---\n",
    "\n",
    "Day 1\n",
    "\n",
    "---"
   ]
  },
  {
   "cell_type": "markdown",
   "id": "beb259af",
   "metadata": {},
   "source": [
    "# Keywords in Python"
   ]
  },
  {
   "cell_type": "code",
   "execution_count": 1,
   "id": "d8961b5a",
   "metadata": {},
   "outputs": [
    {
     "name": "stdout",
     "output_type": "stream",
     "text": [
      "['False', 'None', 'True', 'and', 'as', 'assert', 'async', 'await', 'break', 'class', 'continue', 'def', 'del', 'elif', 'else', 'except', 'finally', 'for', 'from', 'global', 'if', 'import', 'in', 'is', 'lambda', 'nonlocal', 'not', 'or', 'pass', 'raise', 'return', 'try', 'while', 'with', 'yield']\n"
     ]
    }
   ],
   "source": [
    "import keyword\n",
    "print(keyword.kwlist)"
   ]
  },
  {
   "cell_type": "code",
   "execution_count": 2,
   "id": "0093e39c",
   "metadata": {},
   "outputs": [
    {
     "data": {
      "text/plain": [
       "35"
      ]
     },
     "execution_count": 2,
     "metadata": {},
     "output_type": "execute_result"
    }
   ],
   "source": [
    "len(keyword.kwlist)"
   ]
  },
  {
   "cell_type": "markdown",
   "id": "d81770ec",
   "metadata": {},
   "source": [
    "# Identifiers\n",
    "\n",
    "- An indentifier is a name given to entities like class, functions, variables, etc. It helps to differentiate one entity from another"
   ]
  },
  {
   "cell_type": "code",
   "execution_count": null,
   "id": "d0683d8a",
   "metadata": {},
   "outputs": [],
   "source": [
    "# Variable name(Identifier) should not start with a number\n",
    "1var = 10 # invlaid\n",
    "var1 = 10 # valid"
   ]
  },
  {
   "cell_type": "code",
   "execution_count": null,
   "id": "1771e003",
   "metadata": {},
   "outputs": [],
   "source": [
    "# Identifier can't use special symbols except '_'\n",
    "var2@ = 10 # invalid\n",
    "var2_ = 10 # valid"
   ]
  },
  {
   "cell_type": "code",
   "execution_count": null,
   "id": "1babbf68",
   "metadata": {},
   "outputs": [],
   "source": [
    "# Keywords can't be used as identifiers\n",
    "import = 125 # invalid\n",
    "True = 125 # invalid"
   ]
  },
  {
   "cell_type": "markdown",
   "id": "cde8eee5",
   "metadata": {},
   "source": [
    "# Comments\n",
    "\n",
    "- Comments are lines that exist in computer programs that are ignored by compilers and interpreters"
   ]
  },
  {
   "cell_type": "code",
   "execution_count": null,
   "id": "7d6b9f67",
   "metadata": {},
   "outputs": [],
   "source": [
    "# This is Single Line Comment\n",
    "\n",
    "\"\"\"\n",
    "This is Multi-Line Comment\n",
    "\"\"\""
   ]
  },
  {
   "cell_type": "markdown",
   "id": "4c6a8f85",
   "metadata": {},
   "source": [
    "# Indentation\n",
    "\n",
    "- Indentation in Python refers to the spaces or tabs at the beginning of a code line. It is used to define the blocks of code, such as those within loops, functions, and classes. Proper indentation is crucial in Python, as it determines the grouping of statements."
   ]
  },
  {
   "cell_type": "markdown",
   "id": "6e37864f",
   "metadata": {},
   "source": [
    "# Docstrings\n",
    "\n",
    "1. Docstrings provide a convenient way of associating documentation with functions, classes, methods or modules.\n",
    "2. They appear right after the definition of a function, method, vlass, or module."
   ]
  },
  {
   "cell_type": "code",
   "execution_count": 3,
   "id": "0fecdd31",
   "metadata": {},
   "outputs": [
    {
     "name": "stdout",
     "output_type": "stream",
     "text": [
      "25\n",
      "\n",
      "Square Function:- This function will return the square of a given number.\n",
      ":param n: The number to be squared.\n",
      ":return: The square of the number.\n",
      "\n"
     ]
    }
   ],
   "source": [
    "def square(n):\n",
    "    \"\"\"\n",
    "    Square Function:- This function will return the square of a given number.\n",
    "    :param n: The number to be squared.\n",
    "    :return: The square of the number.\n",
    "    \"\"\"\n",
    "    return n * n\n",
    "\n",
    "print(square(5))  # Output: 25\n",
    "print(square.__doc__)  # Output: The docstring of the function"
   ]
  },
  {
   "cell_type": "markdown",
   "id": "7a038652",
   "metadata": {},
   "source": [
    "# ID of Variable"
   ]
  },
  {
   "cell_type": "code",
   "execution_count": null,
   "id": "a7a680b6",
   "metadata": {},
   "outputs": [
    {
     "name": "stdout",
     "output_type": "stream",
     "text": [
      "140707914123080\n",
      "0x1e\n",
      "28\n",
      "True\n"
     ]
    }
   ],
   "source": [
    "p = 30\n",
    "print(id(p))  # Output: Memory address of the variable p\n",
    "print(hex(p))  # Output: Hexadecimal representation of the value of p\n",
    "\n",
    "import sys\n",
    "print(sys.getsizeof(p))  # Output: Size of the variable p in bytes\n",
    "\n",
    "print(isinstance(p, int))  # Output: True, since p is an integer"
   ]
  },
  {
   "cell_type": "markdown",
   "id": "366311d1",
   "metadata": {},
   "source": [
    "# String Methods"
   ]
  },
  {
   "cell_type": "markdown",
   "id": "efb72c9a",
   "metadata": {},
   "source": [
    "## Slicing"
   ]
  },
  {
   "cell_type": "code",
   "execution_count": 22,
   "id": "623ec237",
   "metadata": {},
   "outputs": [
    {
     "name": "stdout",
     "output_type": "stream",
     "text": [
      "nivers\n",
      "srevin\n"
     ]
    }
   ],
   "source": [
    "name = \"University\"\n",
    "\n",
    "print(name[1:7:])\n",
    "print(name[-4:-10:-1])"
   ]
  },
  {
   "cell_type": "markdown",
   "id": "06d27ce6",
   "metadata": {},
   "source": [
    "# Strip Method\n",
    "\n",
    "- To remove unwanted spaces"
   ]
  },
  {
   "cell_type": "code",
   "execution_count": 24,
   "id": "d3710487",
   "metadata": {},
   "outputs": [
    {
     "name": "stdout",
     "output_type": "stream",
     "text": [
      "University\n",
      "University   \n",
      "    University\n"
     ]
    }
   ],
   "source": [
    "name = \"    University   \"\n",
    "\n",
    "print(name.strip())\n",
    "print(name.lstrip())\n",
    "print(name.rstrip())"
   ]
  },
  {
   "cell_type": "code",
   "execution_count": 25,
   "id": "f1f5482a",
   "metadata": {},
   "outputs": [
    {
     "name": "stdout",
     "output_type": "stream",
     "text": [
      "Apple\n"
     ]
    }
   ],
   "source": [
    "name = \"*****Apple*****\"\n",
    "print(name.strip(\"*\"))"
   ]
  },
  {
   "cell_type": "code",
   "execution_count": 27,
   "id": "0517fbaf",
   "metadata": {},
   "outputs": [
    {
     "name": "stdout",
     "output_type": "stream",
     "text": [
      "apple\n",
      "APPLE\n"
     ]
    }
   ],
   "source": [
    "name = \"Apple\"\n",
    "print(name.lower())\n",
    "print(name.upper())"
   ]
  },
  {
   "cell_type": "code",
   "execution_count": 31,
   "id": "7c8451fe",
   "metadata": {},
   "outputs": [
    {
     "data": {
      "text/plain": [
       "'Axxle'"
      ]
     },
     "execution_count": 31,
     "metadata": {},
     "output_type": "execute_result"
    }
   ],
   "source": [
    "name.replace(\"p\", \"x\")"
   ]
  },
  {
   "cell_type": "code",
   "execution_count": 32,
   "id": "c42dc314",
   "metadata": {},
   "outputs": [
    {
     "data": {
      "text/plain": [
       "2"
      ]
     },
     "execution_count": 32,
     "metadata": {},
     "output_type": "execute_result"
    }
   ],
   "source": [
    "name.count(\"p\")"
   ]
  },
  {
   "cell_type": "code",
   "execution_count": 33,
   "id": "dafdfc50",
   "metadata": {},
   "outputs": [
    {
     "data": {
      "text/plain": [
       "True"
      ]
     },
     "execution_count": 33,
     "metadata": {},
     "output_type": "execute_result"
    }
   ],
   "source": [
    "name.startswith(\"A\")"
   ]
  },
  {
   "cell_type": "code",
   "execution_count": 34,
   "id": "f610ca63",
   "metadata": {},
   "outputs": [
    {
     "data": {
      "text/plain": [
       "True"
      ]
     },
     "execution_count": 34,
     "metadata": {},
     "output_type": "execute_result"
    }
   ],
   "source": [
    "name.endswith(\"e\")"
   ]
  },
  {
   "cell_type": "code",
   "execution_count": 45,
   "id": "4e7d4c68",
   "metadata": {},
   "outputs": [
    {
     "name": "stdout",
     "output_type": "stream",
     "text": [
      "['I', 'am', 'Happy']\n"
     ]
    },
    {
     "data": {
      "text/plain": [
       "['I ', 'm H', 'ppy']"
      ]
     },
     "execution_count": 45,
     "metadata": {},
     "output_type": "execute_result"
    }
   ],
   "source": [
    "str1 = \"I am Happy\"\n",
    "str2 = str1.split()\n",
    "print(str2)\n",
    "str1.split(\"a\")"
   ]
  },
  {
   "cell_type": "code",
   "execution_count": 44,
   "id": "ef2f74cd",
   "metadata": {},
   "outputs": [
    {
     "name": "stdout",
     "output_type": "stream",
     "text": [
      "a\n",
      "m\n"
     ]
    }
   ],
   "source": [
    "print(str2[1][0])\n",
    "print(str2[1][1])"
   ]
  },
  {
   "cell_type": "markdown",
   "id": "0109115f",
   "metadata": {},
   "source": [
    "---\n",
    "\n",
    "Day 2\n",
    "\n",
    "---"
   ]
  },
  {
   "cell_type": "code",
   "execution_count": 1,
   "id": "de3d39a0",
   "metadata": {},
   "outputs": [
    {
     "data": {
      "text/plain": [
       "['I', 'am', 'Happy']"
      ]
     },
     "execution_count": 1,
     "metadata": {},
     "output_type": "execute_result"
    }
   ],
   "source": [
    "str3 = \"I*am*Happy\"\n",
    "str3.split(\"*\")"
   ]
  },
  {
   "cell_type": "markdown",
   "id": "fa5dee44",
   "metadata": {},
   "source": [
    "## Methods to call variable in a string"
   ]
  },
  {
   "cell_type": "markdown",
   "id": "59b208ed",
   "metadata": {},
   "source": [
    "### format() method"
   ]
  },
  {
   "cell_type": "code",
   "execution_count": 2,
   "id": "f045c40c",
   "metadata": {},
   "outputs": [
    {
     "name": "stdout",
     "output_type": "stream",
     "text": [
      "My name is Rahul and my age is 22\n"
     ]
    }
   ],
   "source": [
    "name = \"Rahul\"\n",
    "age = 22\n",
    "print(\"My name is {} and my age is {}\".format(name, age))"
   ]
  },
  {
   "cell_type": "markdown",
   "id": "ce955f7b",
   "metadata": {},
   "source": [
    "### f- string() method"
   ]
  },
  {
   "cell_type": "code",
   "execution_count": 3,
   "id": "ecbd4239",
   "metadata": {},
   "outputs": [
    {
     "name": "stdout",
     "output_type": "stream",
     "text": [
      "My name is Rahul and my age is 22\n"
     ]
    }
   ],
   "source": [
    "print(f\"My name is {name} and my age is {age}\")"
   ]
  },
  {
   "cell_type": "code",
   "execution_count": 2,
   "id": "b64e120f",
   "metadata": {},
   "outputs": [
    {
     "name": "stdout",
     "output_type": "stream",
     "text": [
      "Cost of item3, item1 and item2 is 77, 40 and 55 respectively\n"
     ]
    }
   ],
   "source": [
    "item1 = 40\n",
    "item2 = 55\n",
    "item3 = 77\n",
    "res = \"Cost of item3, item1 and item2 is {2}, {0} and {1} respectively\"\n",
    "print(res.format(item1, item2, item3))"
   ]
  },
  {
   "cell_type": "code",
   "execution_count": 8,
   "id": "1dd6cda2",
   "metadata": {},
   "outputs": [
    {
     "name": "stdout",
     "output_type": "stream",
     "text": [
      "******************************************WELCOME EVERYONE******************************************\n",
      "                                          WELCOME EVERYONE                                          \n",
      "******************************************WELCOME EVERYONE******************************************\n"
     ]
    }
   ],
   "source": [
    "str = \"WELCOME EVERYONE\"\n",
    "str2 = str.center(100, '*') # Centering the string with '*' padding\n",
    "print(str2)\n",
    "str2 = str.center(100)\n",
    "print(str2)  # Centering the string without padding\n",
    "print(\"WELCOME EVERYONE\".center(100, '*'))  # Centering directly in print"
   ]
  },
  {
   "cell_type": "code",
   "execution_count": 9,
   "id": "6b0892bc",
   "metadata": {},
   "outputs": [
    {
     "name": "stdout",
     "output_type": "stream",
     "text": [
      "False\n",
      "True\n",
      "True\n"
     ]
    }
   ],
   "source": [
    "mystr = '123456789'\n",
    "print(mystr.isalpha())  # False, contains digits\n",
    "print(mystr.isdigit())  # True, contains only digits\n",
    "print(mystr.isalnum())  # True, contains digits and no spaces"
   ]
  },
  {
   "cell_type": "code",
   "execution_count": 11,
   "id": "9b65907d",
   "metadata": {},
   "outputs": [
    {
     "name": "stdout",
     "output_type": "stream",
     "text": [
      "My favourite TV Series is \"Game of Thrones\"\n"
     ]
    }
   ],
   "source": [
    "mystr = \"My favourite TV Series is \\\"Game of Thrones\\\"\"\n",
    "print(mystr)"
   ]
  },
  {
   "cell_type": "markdown",
   "id": "923225ac",
   "metadata": {},
   "source": [
    "# List Methods"
   ]
  },
  {
   "cell_type": "code",
   "execution_count": 29,
   "id": "eb191063",
   "metadata": {},
   "outputs": [
    {
     "data": {
      "text/plain": [
       "5"
      ]
     },
     "execution_count": 29,
     "metadata": {},
     "output_type": "execute_result"
    }
   ],
   "source": [
    "mylist = ['apple', 'banana', 'cherry', 50, True]\n",
    "len(mylist)  # Length of the list"
   ]
  },
  {
   "cell_type": "code",
   "execution_count": 30,
   "id": "3bbea6b2",
   "metadata": {},
   "outputs": [
    {
     "data": {
      "text/plain": [
       "['apple', 'banana', 'cherry', 50, True, 'Orange']"
      ]
     },
     "execution_count": 30,
     "metadata": {},
     "output_type": "execute_result"
    }
   ],
   "source": [
    "mylist.append('Orange')  # Adding an item to the end of the list\n",
    "mylist"
   ]
  },
  {
   "cell_type": "code",
   "execution_count": null,
   "id": "7bf0bac9",
   "metadata": {},
   "outputs": [
    {
     "name": "stdout",
     "output_type": "stream",
     "text": [
      "['apple', 'banana', 'cherry', 50, True, 'Orange', 'Pen', 'Pencil']\n",
      "8\n",
      "['apple', 'banana', 'cherry', 50, True, 'Orange', 'Pen', 'Pencil', ['Pen', 'Pencil']]\n",
      "9\n"
     ]
    }
   ],
   "source": [
    "mylist.append('Pen', 'Pencil') # Invalid, append only takes one argument\n",
    "mylist.extend(['Pen', 'Pencil'])  # Adding multiple items to the list\n",
    "print(mylist)\n",
    "print(len(mylist))\n",
    "mylist.append(['Pen', 'Pencil'])  # Appending a list as a single item\n",
    "print(mylist)\n",
    "print(len(mylist))"
   ]
  },
  {
   "cell_type": "code",
   "execution_count": 33,
   "id": "e9648560",
   "metadata": {},
   "outputs": [
    {
     "name": "stdout",
     "output_type": "stream",
     "text": [
      "['apple', 'banana', 'Grapes', 'cherry', 50, True, 'Orange', 'Pen', 'Pencil', ['Pen', 'Pencil']]\n"
     ]
    }
   ],
   "source": [
    "mylist.insert(2, 'Grapes')  # Inserting 'Grapes' at index 2\n",
    "print(mylist)"
   ]
  },
  {
   "cell_type": "code",
   "execution_count": 34,
   "id": "e6b58542",
   "metadata": {},
   "outputs": [],
   "source": [
    "mylist.remove(50) # Removing the first occurrence of 50"
   ]
  },
  {
   "cell_type": "code",
   "execution_count": 35,
   "id": "4ca5884a",
   "metadata": {},
   "outputs": [
    {
     "name": "stdout",
     "output_type": "stream",
     "text": [
      "['apple', 'banana', 'Grapes', 'cherry', True, 'Orange', 'Pen', 'Pencil', ['Pen', 'Pencil']]\n"
     ]
    }
   ],
   "source": [
    "print(mylist)"
   ]
  },
  {
   "cell_type": "code",
   "execution_count": 37,
   "id": "82123908",
   "metadata": {},
   "outputs": [
    {
     "data": {
      "text/plain": [
       "['Pen', 'Pencil']"
      ]
     },
     "execution_count": 37,
     "metadata": {},
     "output_type": "execute_result"
    }
   ],
   "source": [
    "mylist.pop()  # Removing the last item from the list"
   ]
  },
  {
   "cell_type": "code",
   "execution_count": 38,
   "id": "98f3ecf0",
   "metadata": {},
   "outputs": [
    {
     "name": "stdout",
     "output_type": "stream",
     "text": [
      "['apple', 'banana', 'Grapes', 'cherry', True, 'Orange', 'Pen', 'Pencil']\n"
     ]
    }
   ],
   "source": [
    "print(mylist)"
   ]
  },
  {
   "cell_type": "code",
   "execution_count": 39,
   "id": "c726c181",
   "metadata": {},
   "outputs": [
    {
     "data": {
      "text/plain": [
       "True"
      ]
     },
     "execution_count": 39,
     "metadata": {},
     "output_type": "execute_result"
    }
   ],
   "source": [
    "mylist.pop(4)"
   ]
  },
  {
   "cell_type": "code",
   "execution_count": 40,
   "id": "06d7faf4",
   "metadata": {},
   "outputs": [
    {
     "name": "stdout",
     "output_type": "stream",
     "text": [
      "['apple', 'banana', 'Grapes', 'cherry', 'Orange', 'Pen', 'Pencil']\n"
     ]
    }
   ],
   "source": [
    "print(mylist)"
   ]
  },
  {
   "cell_type": "code",
   "execution_count": 42,
   "id": "e6b3581c",
   "metadata": {},
   "outputs": [
    {
     "name": "stdout",
     "output_type": "stream",
     "text": [
      "1\n"
     ]
    }
   ],
   "source": [
    "fruits = ['apple', 'banana', 'cherry', 'orange']\n",
    "# index = fruits.index(what to search, from where to search, to where to search)\n",
    "index = fruits.index('banana')  # Finding the index of 'banana'\n",
    "print(index)  # Output: 1"
   ]
  },
  {
   "cell_type": "code",
   "execution_count": 43,
   "id": "fedb4266",
   "metadata": {},
   "outputs": [
    {
     "name": "stdout",
     "output_type": "stream",
     "text": [
      "[]\n"
     ]
    }
   ],
   "source": [
    "mylist.clear()  # Clearing the list\n",
    "print(mylist)  # Output: []"
   ]
  },
  {
   "cell_type": "code",
   "execution_count": null,
   "id": "f3f91403",
   "metadata": {},
   "outputs": [],
   "source": []
  }
 ],
 "metadata": {
  "kernelspec": {
   "display_name": "venv",
   "language": "python",
   "name": "python3"
  },
  "language_info": {
   "codemirror_mode": {
    "name": "ipython",
    "version": 3
   },
   "file_extension": ".py",
   "mimetype": "text/x-python",
   "name": "python",
   "nbconvert_exporter": "python",
   "pygments_lexer": "ipython3",
   "version": "3.13.2"
  }
 },
 "nbformat": 4,
 "nbformat_minor": 5
}
