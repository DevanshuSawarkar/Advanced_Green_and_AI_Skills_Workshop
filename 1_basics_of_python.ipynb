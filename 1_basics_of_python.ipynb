{
 "cells": [
  {
   "cell_type": "markdown",
   "id": "542d0622",
   "metadata": {},
   "source": [
    "---\n",
    "\n",
    "Day 1\n",
    "\n",
    "---"
   ]
  },
  {
   "cell_type": "markdown",
   "id": "beb259af",
   "metadata": {},
   "source": [
    "# Keywords in Python"
   ]
  },
  {
   "cell_type": "code",
   "execution_count": 1,
   "id": "d8961b5a",
   "metadata": {},
   "outputs": [
    {
     "name": "stdout",
     "output_type": "stream",
     "text": [
      "['False', 'None', 'True', 'and', 'as', 'assert', 'async', 'await', 'break', 'class', 'continue', 'def', 'del', 'elif', 'else', 'except', 'finally', 'for', 'from', 'global', 'if', 'import', 'in', 'is', 'lambda', 'nonlocal', 'not', 'or', 'pass', 'raise', 'return', 'try', 'while', 'with', 'yield']\n"
     ]
    }
   ],
   "source": [
    "import keyword\n",
    "print(keyword.kwlist)"
   ]
  },
  {
   "cell_type": "code",
   "execution_count": 2,
   "id": "0093e39c",
   "metadata": {},
   "outputs": [
    {
     "data": {
      "text/plain": [
       "35"
      ]
     },
     "execution_count": 2,
     "metadata": {},
     "output_type": "execute_result"
    }
   ],
   "source": [
    "len(keyword.kwlist)"
   ]
  },
  {
   "cell_type": "markdown",
   "id": "d81770ec",
   "metadata": {},
   "source": [
    "# Identifiers\n",
    "\n",
    "- An indentifier is a name given to entities like class, functions, variables, etc. It helps to differentiate one entity from another"
   ]
  },
  {
   "cell_type": "code",
   "execution_count": null,
   "id": "d0683d8a",
   "metadata": {},
   "outputs": [],
   "source": [
    "# Variable name(Identifier) should not start with a number\n",
    "1var = 10 # invlaid\n",
    "var1 = 10 # valid"
   ]
  },
  {
   "cell_type": "code",
   "execution_count": null,
   "id": "1771e003",
   "metadata": {},
   "outputs": [],
   "source": [
    "# Identifier can't use special symbols except '_'\n",
    "var2@ = 10 # invalid\n",
    "var2_ = 10 # valid"
   ]
  },
  {
   "cell_type": "code",
   "execution_count": null,
   "id": "1babbf68",
   "metadata": {},
   "outputs": [],
   "source": [
    "# Keywords can't be used as identifiers\n",
    "import = 125 # invalid\n",
    "True = 125 # invalid"
   ]
  },
  {
   "cell_type": "markdown",
   "id": "cde8eee5",
   "metadata": {},
   "source": [
    "# Comments\n",
    "\n",
    "- Comments are lines that exist in computer programs that are ignored by compilers and interpreters"
   ]
  },
  {
   "cell_type": "code",
   "execution_count": null,
   "id": "7d6b9f67",
   "metadata": {},
   "outputs": [],
   "source": [
    "# This is Single Line Comment\n",
    "\n",
    "\"\"\"\n",
    "This is Multi-Line Comment\n",
    "\"\"\""
   ]
  },
  {
   "cell_type": "markdown",
   "id": "4c6a8f85",
   "metadata": {},
   "source": [
    "# Indentation\n",
    "\n",
    "- Indentation in Python refers to the spaces or tabs at the beginning of a code line. It is used to define the blocks of code, such as those within loops, functions, and classes. Proper indentation is crucial in Python, as it determines the grouping of statements."
   ]
  },
  {
   "cell_type": "markdown",
   "id": "6e37864f",
   "metadata": {},
   "source": [
    "# Docstrings\n",
    "\n",
    "1. Docstrings provide a convenient way of associating documentation with functions, classes, methods or modules.\n",
    "2. They appear right after the definition of a function, method, vlass, or module."
   ]
  },
  {
   "cell_type": "code",
   "execution_count": 3,
   "id": "0fecdd31",
   "metadata": {},
   "outputs": [
    {
     "name": "stdout",
     "output_type": "stream",
     "text": [
      "25\n",
      "\n",
      "Square Function:- This function will return the square of a given number.\n",
      ":param n: The number to be squared.\n",
      ":return: The square of the number.\n",
      "\n"
     ]
    }
   ],
   "source": [
    "def square(n):\n",
    "    \"\"\"\n",
    "    Square Function:- This function will return the square of a given number.\n",
    "    :param n: The number to be squared.\n",
    "    :return: The square of the number.\n",
    "    \"\"\"\n",
    "    return n * n\n",
    "\n",
    "print(square(5))  # Output: 25\n",
    "print(square.__doc__)  # Output: The docstring of the function"
   ]
  },
  {
   "cell_type": "markdown",
   "id": "7a038652",
   "metadata": {},
   "source": [
    "# ID of Variable"
   ]
  },
  {
   "cell_type": "code",
   "execution_count": null,
   "id": "a7a680b6",
   "metadata": {},
   "outputs": [
    {
     "name": "stdout",
     "output_type": "stream",
     "text": [
      "140707914123080\n",
      "0x1e\n",
      "28\n",
      "True\n"
     ]
    }
   ],
   "source": [
    "p = 30\n",
    "print(id(p))  # Output: Memory address of the variable p\n",
    "print(hex(p))  # Output: Hexadecimal representation of the value of p\n",
    "\n",
    "import sys\n",
    "print(sys.getsizeof(p))  # Output: Size of the variable p in bytes\n",
    "\n",
    "print(isinstance(p, int))  # Output: True, since p is an integer"
   ]
  },
  {
   "cell_type": "markdown",
   "id": "366311d1",
   "metadata": {},
   "source": [
    "# String Methods"
   ]
  },
  {
   "cell_type": "markdown",
   "id": "efb72c9a",
   "metadata": {},
   "source": [
    "## Slicing"
   ]
  },
  {
   "cell_type": "code",
   "execution_count": 22,
   "id": "623ec237",
   "metadata": {},
   "outputs": [
    {
     "name": "stdout",
     "output_type": "stream",
     "text": [
      "nivers\n",
      "srevin\n"
     ]
    }
   ],
   "source": [
    "name = \"University\"\n",
    "\n",
    "print(name[1:7:])\n",
    "print(name[-4:-10:-1])"
   ]
  },
  {
   "cell_type": "markdown",
   "id": "06d27ce6",
   "metadata": {},
   "source": [
    "# Strip Method\n",
    "\n",
    "- To remove unwanted spaces"
   ]
  },
  {
   "cell_type": "code",
   "execution_count": 24,
   "id": "d3710487",
   "metadata": {},
   "outputs": [
    {
     "name": "stdout",
     "output_type": "stream",
     "text": [
      "University\n",
      "University   \n",
      "    University\n"
     ]
    }
   ],
   "source": [
    "name = \"    University   \"\n",
    "\n",
    "print(name.strip())\n",
    "print(name.lstrip())\n",
    "print(name.rstrip())"
   ]
  },
  {
   "cell_type": "code",
   "execution_count": 25,
   "id": "f1f5482a",
   "metadata": {},
   "outputs": [
    {
     "name": "stdout",
     "output_type": "stream",
     "text": [
      "Apple\n"
     ]
    }
   ],
   "source": [
    "name = \"*****Apple*****\"\n",
    "print(name.strip(\"*\"))"
   ]
  },
  {
   "cell_type": "code",
   "execution_count": 27,
   "id": "0517fbaf",
   "metadata": {},
   "outputs": [
    {
     "name": "stdout",
     "output_type": "stream",
     "text": [
      "apple\n",
      "APPLE\n"
     ]
    }
   ],
   "source": [
    "name = \"Apple\"\n",
    "print(name.lower())\n",
    "print(name.upper())"
   ]
  },
  {
   "cell_type": "code",
   "execution_count": 31,
   "id": "7c8451fe",
   "metadata": {},
   "outputs": [
    {
     "data": {
      "text/plain": [
       "'Axxle'"
      ]
     },
     "execution_count": 31,
     "metadata": {},
     "output_type": "execute_result"
    }
   ],
   "source": [
    "name.replace(\"p\", \"x\")"
   ]
  },
  {
   "cell_type": "code",
   "execution_count": 32,
   "id": "c42dc314",
   "metadata": {},
   "outputs": [
    {
     "data": {
      "text/plain": [
       "2"
      ]
     },
     "execution_count": 32,
     "metadata": {},
     "output_type": "execute_result"
    }
   ],
   "source": [
    "name.count(\"p\")"
   ]
  },
  {
   "cell_type": "code",
   "execution_count": 33,
   "id": "dafdfc50",
   "metadata": {},
   "outputs": [
    {
     "data": {
      "text/plain": [
       "True"
      ]
     },
     "execution_count": 33,
     "metadata": {},
     "output_type": "execute_result"
    }
   ],
   "source": [
    "name.startswith(\"A\")"
   ]
  },
  {
   "cell_type": "code",
   "execution_count": 34,
   "id": "f610ca63",
   "metadata": {},
   "outputs": [
    {
     "data": {
      "text/plain": [
       "True"
      ]
     },
     "execution_count": 34,
     "metadata": {},
     "output_type": "execute_result"
    }
   ],
   "source": [
    "name.endswith(\"e\")"
   ]
  },
  {
   "cell_type": "code",
   "execution_count": 45,
   "id": "4e7d4c68",
   "metadata": {},
   "outputs": [
    {
     "name": "stdout",
     "output_type": "stream",
     "text": [
      "['I', 'am', 'Happy']\n"
     ]
    },
    {
     "data": {
      "text/plain": [
       "['I ', 'm H', 'ppy']"
      ]
     },
     "execution_count": 45,
     "metadata": {},
     "output_type": "execute_result"
    }
   ],
   "source": [
    "str1 = \"I am Happy\"\n",
    "str2 = str1.split()\n",
    "print(str2)\n",
    "str1.split(\"a\")"
   ]
  },
  {
   "cell_type": "code",
   "execution_count": 44,
   "id": "ef2f74cd",
   "metadata": {},
   "outputs": [
    {
     "name": "stdout",
     "output_type": "stream",
     "text": [
      "a\n",
      "m\n"
     ]
    }
   ],
   "source": [
    "print(str2[1][0])\n",
    "print(str2[1][1])"
   ]
  },
  {
   "cell_type": "markdown",
   "id": "0109115f",
   "metadata": {},
   "source": [
    "---\n",
    "\n",
    "Day 2\n",
    "\n",
    "---"
   ]
  },
  {
   "cell_type": "code",
   "execution_count": 1,
   "id": "de3d39a0",
   "metadata": {},
   "outputs": [
    {
     "data": {
      "text/plain": [
       "['I', 'am', 'Happy']"
      ]
     },
     "execution_count": 1,
     "metadata": {},
     "output_type": "execute_result"
    }
   ],
   "source": [
    "str3 = \"I*am*Happy\"\n",
    "str3.split(\"*\")"
   ]
  },
  {
   "cell_type": "markdown",
   "id": "fa5dee44",
   "metadata": {},
   "source": [
    "## Methods to call variable in a string"
   ]
  },
  {
   "cell_type": "markdown",
   "id": "59b208ed",
   "metadata": {},
   "source": [
    "### format() method"
   ]
  },
  {
   "cell_type": "code",
   "execution_count": 2,
   "id": "f045c40c",
   "metadata": {},
   "outputs": [
    {
     "name": "stdout",
     "output_type": "stream",
     "text": [
      "My name is Rahul and my age is 22\n"
     ]
    }
   ],
   "source": [
    "name = \"Rahul\"\n",
    "age = 22\n",
    "print(\"My name is {} and my age is {}\".format(name, age))"
   ]
  },
  {
   "cell_type": "markdown",
   "id": "ce955f7b",
   "metadata": {},
   "source": [
    "### f- string() method"
   ]
  },
  {
   "cell_type": "code",
   "execution_count": 3,
   "id": "ecbd4239",
   "metadata": {},
   "outputs": [
    {
     "name": "stdout",
     "output_type": "stream",
     "text": [
      "My name is Rahul and my age is 22\n"
     ]
    }
   ],
   "source": [
    "print(f\"My name is {name} and my age is {age}\")"
   ]
  },
  {
   "cell_type": "code",
   "execution_count": 2,
   "id": "b64e120f",
   "metadata": {},
   "outputs": [
    {
     "name": "stdout",
     "output_type": "stream",
     "text": [
      "Cost of item3, item1 and item2 is 77, 40 and 55 respectively\n"
     ]
    }
   ],
   "source": [
    "item1 = 40\n",
    "item2 = 55\n",
    "item3 = 77\n",
    "res = \"Cost of item3, item1 and item2 is {2}, {0} and {1} respectively\"\n",
    "print(res.format(item1, item2, item3))"
   ]
  },
  {
   "cell_type": "code",
   "execution_count": 8,
   "id": "1dd6cda2",
   "metadata": {},
   "outputs": [
    {
     "name": "stdout",
     "output_type": "stream",
     "text": [
      "******************************************WELCOME EVERYONE******************************************\n",
      "                                          WELCOME EVERYONE                                          \n",
      "******************************************WELCOME EVERYONE******************************************\n"
     ]
    }
   ],
   "source": [
    "str = \"WELCOME EVERYONE\"\n",
    "str2 = str.center(100, '*') # Centering the string with '*' padding\n",
    "print(str2)\n",
    "str2 = str.center(100)\n",
    "print(str2)  # Centering the string without padding\n",
    "print(\"WELCOME EVERYONE\".center(100, '*'))  # Centering directly in print"
   ]
  },
  {
   "cell_type": "code",
   "execution_count": 9,
   "id": "6b0892bc",
   "metadata": {},
   "outputs": [
    {
     "name": "stdout",
     "output_type": "stream",
     "text": [
      "False\n",
      "True\n",
      "True\n"
     ]
    }
   ],
   "source": [
    "mystr = '123456789'\n",
    "print(mystr.isalpha())  # False, contains digits\n",
    "print(mystr.isdigit())  # True, contains only digits\n",
    "print(mystr.isalnum())  # True, contains digits and no spaces"
   ]
  },
  {
   "cell_type": "code",
   "execution_count": 11,
   "id": "9b65907d",
   "metadata": {},
   "outputs": [
    {
     "name": "stdout",
     "output_type": "stream",
     "text": [
      "My favourite TV Series is \"Game of Thrones\"\n"
     ]
    }
   ],
   "source": [
    "mystr = \"My favourite TV Series is \\\"Game of Thrones\\\"\"\n",
    "print(mystr)"
   ]
  },
  {
   "cell_type": "markdown",
   "id": "923225ac",
   "metadata": {},
   "source": [
    "# List Methods"
   ]
  },
  {
   "cell_type": "code",
   "execution_count": 29,
   "id": "eb191063",
   "metadata": {},
   "outputs": [
    {
     "data": {
      "text/plain": [
       "5"
      ]
     },
     "execution_count": 29,
     "metadata": {},
     "output_type": "execute_result"
    }
   ],
   "source": [
    "mylist = ['apple', 'banana', 'cherry', 50, True]\n",
    "len(mylist)  # Length of the list"
   ]
  },
  {
   "cell_type": "code",
   "execution_count": 30,
   "id": "3bbea6b2",
   "metadata": {},
   "outputs": [
    {
     "data": {
      "text/plain": [
       "['apple', 'banana', 'cherry', 50, True, 'Orange']"
      ]
     },
     "execution_count": 30,
     "metadata": {},
     "output_type": "execute_result"
    }
   ],
   "source": [
    "mylist.append('Orange')  # Adding an item to the end of the list\n",
    "mylist"
   ]
  },
  {
   "cell_type": "code",
   "execution_count": null,
   "id": "7bf0bac9",
   "metadata": {},
   "outputs": [
    {
     "name": "stdout",
     "output_type": "stream",
     "text": [
      "['apple', 'banana', 'cherry', 50, True, 'Orange', 'Pen', 'Pencil']\n",
      "8\n",
      "['apple', 'banana', 'cherry', 50, True, 'Orange', 'Pen', 'Pencil', ['Pen', 'Pencil']]\n",
      "9\n"
     ]
    }
   ],
   "source": [
    "mylist.append('Pen', 'Pencil') # Invalid, append only takes one argument\n",
    "mylist.extend(['Pen', 'Pencil'])  # Adding multiple items to the list\n",
    "print(mylist)\n",
    "print(len(mylist))\n",
    "mylist.append(['Pen', 'Pencil'])  # Appending a list as a single item\n",
    "print(mylist)\n",
    "print(len(mylist))"
   ]
  },
  {
   "cell_type": "code",
   "execution_count": 33,
   "id": "e9648560",
   "metadata": {},
   "outputs": [
    {
     "name": "stdout",
     "output_type": "stream",
     "text": [
      "['apple', 'banana', 'Grapes', 'cherry', 50, True, 'Orange', 'Pen', 'Pencil', ['Pen', 'Pencil']]\n"
     ]
    }
   ],
   "source": [
    "mylist.insert(2, 'Grapes')  # Inserting 'Grapes' at index 2\n",
    "print(mylist)"
   ]
  },
  {
   "cell_type": "code",
   "execution_count": 34,
   "id": "e6b58542",
   "metadata": {},
   "outputs": [],
   "source": [
    "mylist.remove(50) # Removing the first occurrence of 50"
   ]
  },
  {
   "cell_type": "code",
   "execution_count": 35,
   "id": "4ca5884a",
   "metadata": {},
   "outputs": [
    {
     "name": "stdout",
     "output_type": "stream",
     "text": [
      "['apple', 'banana', 'Grapes', 'cherry', True, 'Orange', 'Pen', 'Pencil', ['Pen', 'Pencil']]\n"
     ]
    }
   ],
   "source": [
    "print(mylist)"
   ]
  },
  {
   "cell_type": "code",
   "execution_count": 37,
   "id": "82123908",
   "metadata": {},
   "outputs": [
    {
     "data": {
      "text/plain": [
       "['Pen', 'Pencil']"
      ]
     },
     "execution_count": 37,
     "metadata": {},
     "output_type": "execute_result"
    }
   ],
   "source": [
    "mylist.pop()  # Removing the last item from the list"
   ]
  },
  {
   "cell_type": "code",
   "execution_count": 38,
   "id": "98f3ecf0",
   "metadata": {},
   "outputs": [
    {
     "name": "stdout",
     "output_type": "stream",
     "text": [
      "['apple', 'banana', 'Grapes', 'cherry', True, 'Orange', 'Pen', 'Pencil']\n"
     ]
    }
   ],
   "source": [
    "print(mylist)"
   ]
  },
  {
   "cell_type": "code",
   "execution_count": 39,
   "id": "c726c181",
   "metadata": {},
   "outputs": [
    {
     "data": {
      "text/plain": [
       "True"
      ]
     },
     "execution_count": 39,
     "metadata": {},
     "output_type": "execute_result"
    }
   ],
   "source": [
    "mylist.pop(4)"
   ]
  },
  {
   "cell_type": "code",
   "execution_count": 40,
   "id": "06d7faf4",
   "metadata": {},
   "outputs": [
    {
     "name": "stdout",
     "output_type": "stream",
     "text": [
      "['apple', 'banana', 'Grapes', 'cherry', 'Orange', 'Pen', 'Pencil']\n"
     ]
    }
   ],
   "source": [
    "print(mylist)"
   ]
  },
  {
   "cell_type": "code",
   "execution_count": 42,
   "id": "e6b3581c",
   "metadata": {},
   "outputs": [
    {
     "name": "stdout",
     "output_type": "stream",
     "text": [
      "1\n"
     ]
    }
   ],
   "source": [
    "fruits = ['apple', 'banana', 'cherry', 'orange']\n",
    "# index = fruits.index(what to search, from where to search, to where to search)\n",
    "index = fruits.index('banana')  # Finding the index of 'banana'\n",
    "print(index)  # Output: 1"
   ]
  },
  {
   "cell_type": "code",
   "execution_count": 43,
   "id": "fedb4266",
   "metadata": {},
   "outputs": [
    {
     "name": "stdout",
     "output_type": "stream",
     "text": [
      "[]\n"
     ]
    }
   ],
   "source": [
    "mylist.clear()  # Clearing the list\n",
    "print(mylist)  # Output: []"
   ]
  },
  {
   "cell_type": "code",
   "execution_count": 44,
   "id": "f3f91403",
   "metadata": {},
   "outputs": [
    {
     "name": "stdout",
     "output_type": "stream",
     "text": [
      "[]\n"
     ]
    }
   ],
   "source": [
    "mylist2 = mylist.copy()  # Creating a shallow copy of the list\n",
    "print(mylist2)"
   ]
  },
  {
   "cell_type": "code",
   "execution_count": 48,
   "id": "d6083cdc",
   "metadata": {},
   "outputs": [
    {
     "name": "stdout",
     "output_type": "stream",
     "text": [
      "[1, 2, 3, 4, 5, 6]\n"
     ]
    }
   ],
   "source": [
    "list1 = [1, 2, 3]\n",
    "list2 = [4, 5, 6]\n",
    "list1.extend(list2) # Merging list2 into list1\n",
    "print(list1)"
   ]
  },
  {
   "cell_type": "code",
   "execution_count": 49,
   "id": "9d94ac9c",
   "metadata": {},
   "outputs": [
    {
     "name": "stdout",
     "output_type": "stream",
     "text": [
      "[1, 2, 3, 4, 5, 6, 4, 5, 6]\n"
     ]
    }
   ],
   "source": [
    "new_list = list1 + list2  # Concatenating two lists\n",
    "print(new_list)"
   ]
  },
  {
   "cell_type": "code",
   "execution_count": 50,
   "id": "73db2cd2",
   "metadata": {},
   "outputs": [
    {
     "name": "stdout",
     "output_type": "stream",
     "text": [
      "[1, 2, 3, 4, 5, 6, 4, 5, 6, 'One', 'Two']\n"
     ]
    }
   ],
   "source": [
    "new_list = new_list + [\"One\", \"Two\"]\n",
    "print(new_list)"
   ]
  },
  {
   "cell_type": "code",
   "execution_count": null,
   "id": "9b9c82d7",
   "metadata": {},
   "outputs": [
    {
     "name": "stdout",
     "output_type": "stream",
     "text": [
      "[6, 5, 4, 3, 2, 1]\n"
     ]
    }
   ],
   "source": [
    "list1.reverse() # Reversing the order of elements in list1\n",
    "print(list1)"
   ]
  },
  {
   "cell_type": "code",
   "execution_count": 52,
   "id": "23841a98",
   "metadata": {},
   "outputs": [
    {
     "name": "stdout",
     "output_type": "stream",
     "text": [
      "[1, 2, 3, 4, 5, 6]\n"
     ]
    }
   ],
   "source": [
    "list1.sort() # Sorting the list in ascending order\n",
    "print(list1)"
   ]
  },
  {
   "cell_type": "code",
   "execution_count": 53,
   "id": "b7abe3b7",
   "metadata": {},
   "outputs": [
    {
     "name": "stdout",
     "output_type": "stream",
     "text": [
      "[6, 5, 4, 3, 2, 1]\n"
     ]
    }
   ],
   "source": [
    "list1.sort(reverse=True) # Sorting the list in ascending order\n",
    "print(list1)"
   ]
  },
  {
   "cell_type": "markdown",
   "id": "e9140382",
   "metadata": {},
   "source": [
    "## List Comprehensions\n",
    "\n",
    "- List Comprehensions provide an elegant wat to create way to crate new lists. It consists of brackets containing an expression followed by a for clause, then zero or more for or if clauses."
   ]
  },
  {
   "cell_type": "code",
   "execution_count": null,
   "id": "f982bc93",
   "metadata": {},
   "outputs": [
    {
     "name": "stdout",
     "output_type": "stream",
     "text": [
      "['W', 'E', 'L', 'C', 'O', 'M', 'E']\n"
     ]
    }
   ],
   "source": [
    "myString = \"WELCOME\"\n",
    "mylist = [i for i in myString] # Converting string to list of characters\n",
    "print(mylist)"
   ]
  },
  {
   "cell_type": "code",
   "execution_count": 63,
   "id": "40daca0c",
   "metadata": {},
   "outputs": [
    {
     "name": "stdout",
     "output_type": "stream",
     "text": [
      "[0, 2, 4, 6, 8, 10, 12, 14, 16, 18, 20, 22, 24, 26, 28, 30, 32, 34, 36, 38, 40]\n",
      "[0, 2, 4, 6, 8, 10, 12, 14, 16, 18, 20, 22, 24, 26, 28, 30, 32, 34, 36, 38, 40]\n"
     ]
    }
   ],
   "source": [
    "# Q. Genrate a list of even numbers between 0 to 40\n",
    "even_numbers = [i for i in range(0, 41, 2)]\n",
    "print(even_numbers)\n",
    "even_numbers_alt = [i for i in range(0, 41) if i % 2 == 0]\n",
    "print(even_numbers_alt)"
   ]
  },
  {
   "cell_type": "code",
   "execution_count": null,
   "id": "61f0ad01",
   "metadata": {},
   "outputs": [
    {
     "name": "stdout",
     "output_type": "stream",
     "text": [
      "[0, 1, 4, 9, 16, 25, 36, 49, 64, 81]\n"
     ]
    }
   ],
   "source": [
    "# Q. Generate a list of squares of numbers from 0 to 9\n",
    "squared_list = [i * i for i in range(10)]\n",
    "print(squared_list)"
   ]
  },
  {
   "cell_type": "code",
   "execution_count": null,
   "id": "4f5195da",
   "metadata": {},
   "outputs": [
    {
     "name": "stdout",
     "output_type": "stream",
     "text": [
      "[0, 9, 12, 18, 24, 27, 36, 45, 48, 54, 60, 63, 72, 81, 84, 90, 96, 99, 108, 117, 120, 126, 132, 135, 144, 153, 156, 162, 168, 171, 180, 189, 192, 198]\n"
     ]
    }
   ],
   "source": [
    "# Q. Genearate a list of numbers between 0 to 200 which are divisible by 3, 9 or 12\n",
    "divisible_by_3_9_12 = [i for i in range(201) if 1 % 3 == 0 or i % 9 == 0 or i % 12 == 0]\n",
    "print(divisible_by_3_9_12)"
   ]
  },
  {
   "cell_type": "code",
   "execution_count": 72,
   "id": "cd1d9d66",
   "metadata": {},
   "outputs": [
    {
     "name": "stdout",
     "output_type": "stream",
     "text": [
      "['1', '2', '3', '4', '5', '6', '7', '8', '9']\n",
      "['o', 'n', 'e', 't', 'w', 'o', 't', 'h', 'r', 'e', 'e', 'f', 'o', 'u', 'r', 'f', 'i', 'v', 'e', 's', 'i', 'x']\n"
     ]
    }
   ],
   "source": [
    "# Q. Extract numbers from a string\n",
    "mystr = \"one 1 two 2 three 3 four 4 five 5 six 6789\"\n",
    "numbers = [i for i in mystr if i.isdigit()]\n",
    "alpha = [i for i in mystr if i.isalpha()]\n",
    "print(numbers)\n",
    "print(alpha)"
   ]
  },
  {
   "cell_type": "markdown",
   "id": "036bdc89",
   "metadata": {},
   "source": [
    "# Sets\n",
    "\n",
    "1. Unordered & Unindexed collection of items.\n",
    "2. Set elements are unique. Duplicate elements are not allowed.\n",
    "3. Set elements are immutable (cannot be changed).\n",
    "4. Set itself is mutable. We can add or remove items from it."
   ]
  },
  {
   "cell_type": "code",
   "execution_count": 73,
   "id": "5fe9c084",
   "metadata": {},
   "outputs": [
    {
     "name": "stdout",
     "output_type": "stream",
     "text": [
      "{1, 2, 3, 4, 5}\n"
     ]
    }
   ],
   "source": [
    "myset = {1, 2, 2, 3, 4, 5 ,5}\n",
    "print(myset) # duplicates are removed"
   ]
  },
  {
   "cell_type": "code",
   "execution_count": 74,
   "id": "47e1e55d",
   "metadata": {},
   "outputs": [
    {
     "name": "stdout",
     "output_type": "stream",
     "text": [
      "(0, 'one')\n",
      "(1, 'five')\n",
      "(2, 'three')\n",
      "(3, 'four')\n",
      "(4, 'two')\n"
     ]
    }
   ],
   "source": [
    "myset = {'one', 'two', 'three', 'four', 'five'}\n",
    "for i in enumerate(myset):\n",
    "    print(i)"
   ]
  },
  {
   "cell_type": "markdown",
   "id": "3e481eaa",
   "metadata": {},
   "source": [
    "## Set Methods"
   ]
  },
  {
   "cell_type": "code",
   "execution_count": 75,
   "id": "7fc5d149",
   "metadata": {},
   "outputs": [
    {
     "name": "stdout",
     "output_type": "stream",
     "text": [
      "{'one', 'five', 'three', 'six', 'four', 'two'}\n"
     ]
    }
   ],
   "source": [
    "myset.add('six')  # Adding an item to the set\n",
    "print(myset)"
   ]
  },
  {
   "cell_type": "code",
   "execution_count": 76,
   "id": "dcdfa8ab",
   "metadata": {},
   "outputs": [
    {
     "name": "stdout",
     "output_type": "stream",
     "text": [
      "{5, 6, 7, 'three', 'five', 'six', 'one', 'four', 'two'}\n"
     ]
    }
   ],
   "source": [
    "myset.update([5, 6, 7])  # Adding multiple items to the set\n",
    "print(myset)"
   ]
  },
  {
   "cell_type": "code",
   "execution_count": 77,
   "id": "665454c4",
   "metadata": {},
   "outputs": [
    {
     "name": "stdout",
     "output_type": "stream",
     "text": [
      "{6, 7, 'three', 'five', 'six', 'one', 'four', 'two'}\n"
     ]
    }
   ],
   "source": [
    "myset.remove(5) # Removing an item from the set\n",
    "print(myset)"
   ]
  },
  {
   "cell_type": "code",
   "execution_count": 78,
   "id": "4b9f4357",
   "metadata": {},
   "outputs": [
    {
     "name": "stdout",
     "output_type": "stream",
     "text": [
      "{7, 'three', 'five', 'six', 'one', 'four', 'two'}\n"
     ]
    }
   ],
   "source": [
    "myset.discard(6)  # Discarding an item from the set, no error if item not found\n",
    "print(myset)"
   ]
  },
  {
   "cell_type": "code",
   "execution_count": 79,
   "id": "06e3eafe",
   "metadata": {},
   "outputs": [
    {
     "name": "stdout",
     "output_type": "stream",
     "text": [
      "set()\n"
     ]
    }
   ],
   "source": [
    "myset.clear() # clearing the set\n",
    "print(myset)"
   ]
  },
  {
   "cell_type": "code",
   "execution_count": 80,
   "id": "5853654b",
   "metadata": {},
   "outputs": [],
   "source": [
    "del myset # Deleting the set (any object)"
   ]
  },
  {
   "cell_type": "markdown",
   "id": "66152751",
   "metadata": {},
   "source": [
    "## Set Operations"
   ]
  },
  {
   "cell_type": "code",
   "execution_count": 82,
   "id": "c043884c",
   "metadata": {},
   "outputs": [],
   "source": [
    "A = {1,2,3,4,5}\n",
    "B = {4,5,6,7,8}\n",
    "C = {8,9,10}"
   ]
  },
  {
   "cell_type": "code",
   "execution_count": null,
   "id": "e71192ef",
   "metadata": {},
   "outputs": [
    {
     "name": "stdout",
     "output_type": "stream",
     "text": [
      "{1, 2, 3, 4, 5, 6, 7, 8}\n",
      "{1, 2, 3, 4, 5, 6, 7, 8}\n"
     ]
    }
   ],
   "source": [
    "# Union of A and B (All elements from both sets, no duplicates)\n",
    "print(A | B) # using operator\n",
    "print(A.union(B)) # using method"
   ]
  },
  {
   "cell_type": "code",
   "execution_count": 85,
   "id": "dfae97d2",
   "metadata": {},
   "outputs": [
    {
     "name": "stdout",
     "output_type": "stream",
     "text": [
      "{1, 2, 3, 4, 5, 6, 7, 8, 9, 10}\n"
     ]
    }
   ],
   "source": [
    "print(A.union(B, C))"
   ]
  },
  {
   "cell_type": "code",
   "execution_count": 86,
   "id": "965cc666",
   "metadata": {},
   "outputs": [
    {
     "name": "stdout",
     "output_type": "stream",
     "text": [
      "{1, 2, 3, 4, 5, 6, 7, 8, 9, 10}\n"
     ]
    }
   ],
   "source": [
    "A.update(B, C) # Updating A with elements from B and C\n",
    "print(A)"
   ]
  },
  {
   "cell_type": "code",
   "execution_count": null,
   "id": "1811a947",
   "metadata": {},
   "outputs": [
    {
     "name": "stdout",
     "output_type": "stream",
     "text": [
      "{4, 5}\n",
      "{4, 5}\n"
     ]
    }
   ],
   "source": [
    "# Intersection\n",
    "A = {1,2,3,4,5}\n",
    "B = {4,5,6,7,8}\n",
    "print(A & B) # using operator\n",
    "print(A.intersection(B)) # using method"
   ]
  },
  {
   "cell_type": "code",
   "execution_count": null,
   "id": "165261a2",
   "metadata": {},
   "outputs": [
    {
     "name": "stdout",
     "output_type": "stream",
     "text": [
      "{1, 2, 3}\n",
      "{1, 2, 3}\n",
      "{8, 6, 7}\n"
     ]
    }
   ],
   "source": [
    "# Difference\n",
    "print(A - B) # Elements in A but not in B (using operator)\n",
    "print(A.difference(B)) # using method\n",
    "print(B -A) # Elements in B but not in A"
   ]
  },
  {
   "cell_type": "code",
   "execution_count": 91,
   "id": "4daeda38",
   "metadata": {},
   "outputs": [
    {
     "name": "stdout",
     "output_type": "stream",
     "text": [
      "{1, 2, 3, 6, 7, 8}\n",
      "{1, 2, 3, 6, 7, 8}\n",
      "{1, 2, 3, 6, 7, 8}\n"
     ]
    }
   ],
   "source": [
    "print((A - B) | (B - A)) # Symmetric difference (elements in A or B but not both)\n",
    "print(A.symmetric_difference(B)) # using method\n",
    "print(A ^ B) # using operator"
   ]
  },
  {
   "cell_type": "code",
   "execution_count": 92,
   "id": "a2637413",
   "metadata": {},
   "outputs": [],
   "source": [
    "A = {1,2,3,4,5,6,7,8,9,10}\n",
    "B = {3,4,5,6,7,8}\n",
    "C = {10,20,30,40}"
   ]
  },
  {
   "cell_type": "code",
   "execution_count": 93,
   "id": "d5d1b30d",
   "metadata": {},
   "outputs": [
    {
     "data": {
      "text/plain": [
       "True"
      ]
     },
     "execution_count": 93,
     "metadata": {},
     "output_type": "execute_result"
    }
   ],
   "source": [
    "B.issubset(A) # Check if B is a subset of A"
   ]
  },
  {
   "cell_type": "code",
   "execution_count": 94,
   "id": "ad42bbb3",
   "metadata": {},
   "outputs": [
    {
     "data": {
      "text/plain": [
       "True"
      ]
     },
     "execution_count": 94,
     "metadata": {},
     "output_type": "execute_result"
    }
   ],
   "source": [
    "A.issuperset(B) # Check if A is a superset of B"
   ]
  },
  {
   "cell_type": "code",
   "execution_count": 95,
   "id": "ce8cc70e",
   "metadata": {},
   "outputs": [
    {
     "data": {
      "text/plain": [
       "False"
      ]
     },
     "execution_count": 95,
     "metadata": {},
     "output_type": "execute_result"
    }
   ],
   "source": [
    "C.isdisjoint(A) # Check if C is disjoint with A (no common elements)"
   ]
  },
  {
   "cell_type": "markdown",
   "id": "57568d49",
   "metadata": {},
   "source": [
    "# Dictionary\n",
    "\n",
    "- Dictionary is a mutable data type in Python. A python dictionary is a collection of a key and value pairs separated by a colon (:).\n",
    "\n",
    "1. Keys are unique and immutable.\n",
    "2. Values can be of any data type and can be duplicated\n",
    "3. Dictionaries are unordered collections of items."
   ]
  },
  {
   "cell_type": "code",
   "execution_count": 97,
   "id": "2fff1ce9",
   "metadata": {},
   "outputs": [
    {
     "name": "stdout",
     "output_type": "stream",
     "text": [
      "{1: 'one', 2: 'two', 3: 'three'}\n",
      "dict_keys([1, 2, 3])\n",
      "dict_values(['one', 'two', 'three'])\n",
      "dict_items([(1, 'one'), (2, 'two'), (3, 'three')])\n"
     ]
    }
   ],
   "source": [
    "mydict = {\n",
    "    1: \"one\",\n",
    "    2: \"two\",\n",
    "    3: \"three\"\n",
    "}\n",
    "print(mydict)\n",
    "print(mydict.keys()) # Get all keys of the dictionary\n",
    "print(mydict.values()) # Get all values of the dictionary\n",
    "print(mydict.items()) # Get all key-value pairs of the dictionary"
   ]
  },
  {
   "cell_type": "code",
   "execution_count": 98,
   "id": "a47dedc9",
   "metadata": {},
   "outputs": [
    {
     "name": "stdout",
     "output_type": "stream",
     "text": [
      "{'a': None, 'c': None, 'd': None, 'b': None}\n"
     ]
    }
   ],
   "source": [
    "keys = {'a', 'b', 'c', 'd'}\n",
    "mydict3 = dict.fromkeys(keys) # Create a dictionary with keys from 'keys' and default value None\n",
    "print(mydict3)"
   ]
  },
  {
   "cell_type": "code",
   "execution_count": 99,
   "id": "fcd09f73",
   "metadata": {},
   "outputs": [
    {
     "name": "stdout",
     "output_type": "stream",
     "text": [
      "{'a': 100, 'c': 100, 'd': 100, 'b': 100}\n"
     ]
    }
   ],
   "source": [
    "keys = {'a', 'b', 'c', 'd'}\n",
    "value = 100\n",
    "mydict3 = dict.fromkeys(keys, value) # Create a dictionary with keys from 'keys' and default value 100\n",
    "print(mydict3)"
   ]
  },
  {
   "cell_type": "code",
   "execution_count": 100,
   "id": "e79d18ce",
   "metadata": {},
   "outputs": [
    {
     "name": "stdout",
     "output_type": "stream",
     "text": [
      "{'a': 10, 'b': 20, 'c': 30, 'd': 40}\n"
     ]
    }
   ],
   "source": [
    "keys = ['a', 'b', 'c', 'd']\n",
    "value = [10, 20, 30, 40]\n",
    "mydict4 = dict(zip(keys, value)) # Create a dictionary by zipping keys and values together\n",
    "print(mydict4)"
   ]
  },
  {
   "cell_type": "code",
   "execution_count": 106,
   "id": "d6f62231",
   "metadata": {},
   "outputs": [
    {
     "name": "stdout",
     "output_type": "stream",
     "text": [
      "74123\n"
     ]
    }
   ],
   "source": [
    "mydict = {\n",
    "    'Name': 'Asif',\n",
    "    \"ID\": 74123,\n",
    "    'DOB': 1991,\n",
    "    'Job': 'Analyst'\n",
    "}\n",
    "print(mydict['ID']) # Accessing value by key"
   ]
  },
  {
   "cell_type": "code",
   "execution_count": 105,
   "id": "d23b8399",
   "metadata": {},
   "outputs": [
    {
     "name": "stdout",
     "output_type": "stream",
     "text": [
      "Not Found\n"
     ]
    }
   ],
   "source": [
    "mydict.get('ID') # Accessing value by key using get method\n",
    "print(mydict.get('ID', 'Not Found')) # Accessing value by key with default value if key not found"
   ]
  },
  {
   "cell_type": "code",
   "execution_count": 107,
   "id": "23820a3a",
   "metadata": {},
   "outputs": [
    {
     "name": "stdout",
     "output_type": "stream",
     "text": [
      "{'Name': 'Asif', 'ID': 74123, 'DOB': 1991, 'Job': 'ML Engineer'}\n"
     ]
    }
   ],
   "source": [
    "mydict['Job'] = 'ML Engineer' # Updating value for an existing key\n",
    "print(mydict)"
   ]
  },
  {
   "cell_type": "code",
   "execution_count": 110,
   "id": "24cc2a02",
   "metadata": {},
   "outputs": [
    {
     "name": "stdout",
     "output_type": "stream",
     "text": [
      "{'Name': 'Asif', 'ID': 74123, 'DOB': 1991, 'Job': 'Data Scientist', 'Salary': 100000}\n"
     ]
    }
   ],
   "source": [
    "mydict.update({'Job': 'Data Scientist'}) # Updating value for an existing key using update method\n",
    "mydict.update({'Salary': 100000}) # Adding a new key-value pair\n",
    "print(mydict)"
   ]
  },
  {
   "cell_type": "code",
   "execution_count": 111,
   "id": "dfb63dd6",
   "metadata": {},
   "outputs": [
    {
     "name": "stdout",
     "output_type": "stream",
     "text": [
      "{'Name': 'Asif', 'ID': 74123, 'DOB': 1991, 'Salary': 100000}\n"
     ]
    }
   ],
   "source": [
    "mydict.pop('Job') # Removing a key-value pair by key\n",
    "print(mydict)"
   ]
  },
  {
   "cell_type": "code",
   "execution_count": 112,
   "id": "04e8eb52",
   "metadata": {},
   "outputs": [
    {
     "name": "stdout",
     "output_type": "stream",
     "text": [
      "{'Name': 'Asif', 'ID': 74123, 'DOB': 1991}\n"
     ]
    }
   ],
   "source": [
    "mydict.popitem() # Removing the Last inserted key-value pair\n",
    "print(mydict)"
   ]
  },
  {
   "cell_type": "code",
   "execution_count": null,
   "id": "e5d5c85b",
   "metadata": {},
   "outputs": [
    {
     "data": {
      "text/plain": [
       "True"
      ]
     },
     "execution_count": 114,
     "metadata": {},
     "output_type": "execute_result"
    }
   ],
   "source": [
    "all(mydict)  # Check if all keys are truthy (not empty, not None, etc.)"
   ]
  },
  {
   "cell_type": "code",
   "execution_count": 116,
   "id": "a6773fc4",
   "metadata": {},
   "outputs": [
    {
     "data": {
      "text/plain": [
       "True"
      ]
     },
     "execution_count": 116,
     "metadata": {},
     "output_type": "execute_result"
    }
   ],
   "source": [
    "any(mydict) # Returns True if any key of dictionary has True value, otherwise false"
   ]
  },
  {
   "cell_type": "markdown",
   "id": "a3bb324e",
   "metadata": {},
   "source": [
    "# Function"
   ]
  },
  {
   "cell_type": "code",
   "execution_count": 2,
   "id": "c8b23379",
   "metadata": {},
   "outputs": [
    {
     "data": {
      "text/plain": [
       "100"
      ]
     },
     "execution_count": 2,
     "metadata": {},
     "output_type": "execute_result"
    }
   ],
   "source": [
    "def sum(a, b):\n",
    "    return a + b\n",
    "\n",
    "sum(50, 50)"
   ]
  },
  {
   "cell_type": "markdown",
   "id": "c826fec3",
   "metadata": {},
   "source": [
    "## Function with Arbitary Arguments"
   ]
  },
  {
   "cell_type": "code",
   "execution_count": 16,
   "id": "9a5fed4d",
   "metadata": {},
   "outputs": [
    {
     "data": {
      "text/plain": [
       "33"
      ]
     },
     "execution_count": 16,
     "metadata": {},
     "output_type": "execute_result"
    }
   ],
   "source": [
    "# Functions with Arbitary Arguments\n",
    "def sum_arg(*a):\n",
    "    result = 0\n",
    "    for i in a: result = result +i\n",
    "    return result\n",
    "\n",
    "sum_arg(10,8,2,5,8)"
   ]
  },
  {
   "cell_type": "code",
   "execution_count": 15,
   "id": "dd2de12b",
   "metadata": {},
   "outputs": [
    {
     "data": {
      "text/plain": [
       "60"
      ]
     },
     "execution_count": 15,
     "metadata": {},
     "output_type": "execute_result"
    }
   ],
   "source": [
    "# Function with default parameters\n",
    "def sum_with_deafult(a, b=10):\n",
    "    return a + b\n",
    "\n",
    "sum_with_deafult(50)"
   ]
  },
  {
   "cell_type": "code",
   "execution_count": 3,
   "id": "e192918a",
   "metadata": {},
   "outputs": [
    {
     "name": "stdout",
     "output_type": "stream",
     "text": [
      "name: Alex\n",
      "age: 25\n",
      "city: New York\n"
     ]
    }
   ],
   "source": [
    "# Function with keyword arguments\n",
    "def person_details(**kwargs):\n",
    "    for key, value in kwargs.items():\n",
    "        print(f\"{key}: {value}\")\n",
    "\n",
    "person_details(name=\"Alex\", age=25, city=\"New York\")"
   ]
  },
  {
   "cell_type": "markdown",
   "id": "6ca613a7",
   "metadata": {},
   "source": [
    "## Recursive Function"
   ]
  },
  {
   "cell_type": "code",
   "execution_count": null,
   "id": "a6b4eff0",
   "metadata": {},
   "outputs": [
    {
     "data": {
      "text/plain": [
       "120"
      ]
     },
     "execution_count": 6,
     "metadata": {},
     "output_type": "execute_result"
    }
   ],
   "source": [
    "# Factorials Program\n",
    "def factorial(n):\n",
    "    if n == 1: return 1\n",
    "    else: return n * factorial(n - 1)\n",
    "\n",
    "factorial(5)"
   ]
  },
  {
   "cell_type": "code",
   "execution_count": 7,
   "id": "e8ada50b",
   "metadata": {},
   "outputs": [
    {
     "data": {
      "text/plain": [
       "15"
      ]
     },
     "execution_count": 7,
     "metadata": {},
     "output_type": "execute_result"
    }
   ],
   "source": [
    "# Sum of n natural numbers\n",
    "def add(n):\n",
    "    if n == 1: return 1\n",
    "    else: return n + add(n - 1)\n",
    "\n",
    "add(5)"
   ]
  },
  {
   "cell_type": "markdown",
   "id": "bc950dac",
   "metadata": {},
   "source": [
    "## Lambda Function\n",
    "\n",
    "- Lambda: Low order function\n",
    "- Filter, Map, Reduce: High order function\n",
    "\n",
    "<br>\n",
    "\n",
    "- A lambda function is an anonymous function(function without a name).\n",
    "- Lambda functions can have any number of arguments but only one expression. The expression is valuate and returned.\n",
    "- We use lambda functions when we require a nameless function for a short period of time. "
   ]
  },
  {
   "cell_type": "code",
   "execution_count": 8,
   "id": "19152a46",
   "metadata": {},
   "outputs": [
    {
     "name": "stdout",
     "output_type": "stream",
     "text": [
      "15\n"
     ]
    }
   ],
   "source": [
    "addition = lambda a : a +10\n",
    "print(addition(5))"
   ]
  },
  {
   "cell_type": "code",
   "execution_count": null,
   "id": "c16c0fa4",
   "metadata": {},
   "outputs": [
    {
     "name": "stdout",
     "output_type": "stream",
     "text": [
      "120\n"
     ]
    }
   ],
   "source": [
    "fact  = lambda n: 1 if n == 1 else n * fact(n -1)\n",
    "print(fact(5))"
   ]
  },
  {
   "cell_type": "code",
   "execution_count": 1,
   "id": "417c75c0",
   "metadata": {},
   "outputs": [
    {
     "data": {
      "text/plain": [
       "100"
      ]
     },
     "execution_count": 1,
     "metadata": {},
     "output_type": "execute_result"
    }
   ],
   "source": [
    "product = lambda *args: sum(args)\n",
    "product(10,20,30,40)"
   ]
  },
  {
   "cell_type": "code",
   "execution_count": 3,
   "id": "dd196933",
   "metadata": {},
   "outputs": [
    {
     "name": "stdout",
     "output_type": "stream",
     "text": [
      "[0, 2, 4, 6, 8, 10, 12, 14, 16, 18, 20, 22, 24, 26, 28, 30, 32, 34, 36, 38, 40, 42, 44, 46, 48, 50, 52, 54, 56, 58, 60, 62, 64, 66, 68, 70, 72, 74, 76, 78, 80, 82, 84, 86, 88, 90, 92, 94, 96, 98, 100]\n"
     ]
    }
   ],
   "source": [
    "list1 = [ i for i in range(101)]\n",
    "\n",
    "even_list = list(filter(lambda x: x % 2 == 0, list1))\n",
    "print(even_list)"
   ]
  },
  {
   "cell_type": "code",
   "execution_count": 5,
   "id": "825584cb",
   "metadata": {},
   "outputs": [
    {
     "name": "stdout",
     "output_type": "stream",
     "text": [
      "[0, 4, 8, 12, 16, 20, 24, 28, 32, 36, 40, 44, 48, 52, 56, 60, 64, 68, 72, 76, 80, 84, 88, 92, 96, 100, 104, 108, 112, 116, 120, 124, 128, 132, 136, 140, 144, 148, 152, 156, 160, 164, 168, 172, 176, 180, 184, 188, 192, 196, 200]\n"
     ]
    }
   ],
   "source": [
    "double_list = list(map(lambda x: x * 2, even_list))\n",
    "print(double_list)"
   ]
  },
  {
   "cell_type": "markdown",
   "id": "acbe1d78",
   "metadata": {},
   "source": [
    "- The reduce(fun,seq) function is used to apply a particular function passed in its argument to all of the list elements mentioned in the sequence passed along."
   ]
  },
  {
   "cell_type": "code",
   "execution_count": 7,
   "id": "199e5ff7",
   "metadata": {},
   "outputs": [
    {
     "name": "stdout",
     "output_type": "stream",
     "text": [
      "5100\n"
     ]
    }
   ],
   "source": [
    "from functools import reduce\n",
    "sum_list = reduce(lambda x, y: x + y, double_list)\n",
    "print(sum_list)"
   ]
  },
  {
   "cell_type": "markdown",
   "id": "08298e29",
   "metadata": {},
   "source": [
    "# Object-Oriented Programming"
   ]
  },
  {
   "cell_type": "markdown",
   "id": "6d382b5f",
   "metadata": {},
   "source": [
    "## Inheritance"
   ]
  },
  {
   "cell_type": "code",
   "execution_count": 10,
   "id": "16b41684",
   "metadata": {},
   "outputs": [
    {
     "name": "stdout",
     "output_type": "stream",
     "text": [
      "Yes I am Rohit, my age is 23, and I am learning AI.\n"
     ]
    }
   ],
   "source": [
    "class AI:\n",
    "\n",
    "    def __init__(self, name, age):\n",
    "        self.name = name\n",
    "        self.age = age\n",
    "    \n",
    "    def learning(self):\n",
    "        print(f\"Yes I am {self.name}, my age is {self.age}, and I am learning AI.\")\n",
    "\n",
    "student1 = AI(\"Rohit\", 23)\n",
    "student1.learning()"
   ]
  },
  {
   "cell_type": "code",
   "execution_count": 12,
   "id": "dbb0dff3",
   "metadata": {},
   "outputs": [
    {
     "name": "stdout",
     "output_type": "stream",
     "text": [
      "Name:- Devanshu\n",
      "Age:- 20\n",
      "Gender:- Male\n",
      "Student ID:- 22070521090\n"
     ]
    }
   ],
   "source": [
    "class person: # Parent/Base Class\n",
    "    def __init__(self, name, age, gender):\n",
    "        self.name = name\n",
    "        self.age = age\n",
    "        self.gender = gender\n",
    "    \n",
    "    def personInfo(self):\n",
    "        print(f\"Name:- {self.name}\")\n",
    "        print(f\"Age:- {self.age}\")\n",
    "        print(f\"Gender:- {self.gender}\")\n",
    "\n",
    "class student(person): # Child/Derived Class\n",
    "    def __init__(self, name, age, gender, student_id):\n",
    "        super().__init__(name, age, gender)\n",
    "        self.student_id = student_id\n",
    "    \n",
    "    def studentInfo(self):\n",
    "        super().personInfo()\n",
    "        print(f\"Student ID:- {self.student_id}\")\n",
    "\n",
    "student1 = student(\"Devanshu\", 20, \"Male\", 22070521090)\n",
    "student1.studentInfo()"
   ]
  },
  {
   "cell_type": "markdown",
   "id": "a6261e4f",
   "metadata": {},
   "source": [
    "---\n",
    "\n",
    "Day 3\n",
    "\n",
    "---"
   ]
  },
  {
   "cell_type": "markdown",
   "id": "9ec9451d",
   "metadata": {},
   "source": [
    "## Polymorhpism"
   ]
  },
  {
   "cell_type": "code",
   "execution_count": 5,
   "id": "8e93ec9e",
   "metadata": {},
   "outputs": [
    {
     "name": "stdout",
     "output_type": "stream",
     "text": [
      "Ayush says Woof!\n",
      "Ayushi says Meow!\n"
     ]
    }
   ],
   "source": [
    "class Animal:\n",
    "    def __init__(self, name):\n",
    "        self.name = name\n",
    "    \n",
    "    def speak(self):\n",
    "        pass\n",
    "\n",
    "class Dog(Animal):\n",
    "    def speak(self):\n",
    "        return f\"{self.name} says Woof!\"\n",
    "\n",
    "class Cat(Animal):\n",
    "    def speak(self):\n",
    "        return f\"{self.name} says Meow!\"\n",
    "\n",
    "dog = Dog(\"Ayush\")\n",
    "print(dog.speak())\n",
    "\n",
    "cat = Cat(\"Ayushi\")\n",
    "print(cat.speak())"
   ]
  },
  {
   "cell_type": "markdown",
   "id": "a8de6c0f",
   "metadata": {},
   "source": [
    "## Encapsulation"
   ]
  },
  {
   "cell_type": "code",
   "execution_count": null,
   "id": "761a5e79",
   "metadata": {},
   "outputs": [
    {
     "name": "stdout",
     "output_type": "stream",
     "text": [
      "1234\n",
      "1234567890123456\n"
     ]
    }
   ],
   "source": [
    "class ATM:\n",
    "    def __init__(self, PIN, Card_No, Type):\n",
    "        self.__PIN = PIN # Private variable\n",
    "        self._Card_No = Card_No # Protected Variable\n",
    "        self.Type = Type # Public variable\n",
    "    \n",
    "    def get_PIN(self):\n",
    "        return self.__PIN\n",
    "\n",
    "customer1 = ATM(1234, 1234567890123456, \"Debit\")\n",
    "print(customer1.get_PIN())"
   ]
  },
  {
   "cell_type": "markdown",
   "id": "b2b9ac76",
   "metadata": {},
   "source": [
    "## Abstraction"
   ]
  },
  {
   "cell_type": "code",
   "execution_count": 9,
   "id": "42ca6de5",
   "metadata": {},
   "outputs": [
    {
     "name": "stdout",
     "output_type": "stream",
     "text": [
      "Processing credit card payment of ₹100\n",
      "Processing PAyPal payment of ₹50\n",
      "Processing UPI payment of ₹75\n"
     ]
    }
   ],
   "source": [
    "from abc import ABC, abstractmethod\n",
    "\n",
    "# Abstract Class\n",
    "class Payment(ABC):\n",
    "    @abstractmethod\n",
    "    def make_payment(self, amount):\n",
    "        pass\n",
    "\n",
    "# Concrete Class\n",
    "class CreditCardPayment(Payment):\n",
    "    def make_payment(self, amount):\n",
    "        print(f\"Processing credit card payment of ₹{amount}\")\n",
    "\n",
    "# Concrete Class 2\n",
    "class PayPalPayment(Payment):\n",
    "    def make_payment(self, amount):\n",
    "        print(f\"Processing PAyPal payment of ₹{amount}\")\n",
    "\n",
    "# Concrete Class 3\n",
    "class UPIPayment(Payment):\n",
    "    def make_payment(self, amount):\n",
    "        print(f\"Processing UPI payment of ₹{amount}\")\n",
    "\n",
    "# Function that uses abstraction\n",
    "def complete_transaction(payment_method, amount):\n",
    "    payment_method.make_payment(amount)\n",
    "\n",
    "# Usage\n",
    "credit_card = CreditCardPayment()\n",
    "paypal = PayPalPayment()\n",
    "upi = UPIPayment()\n",
    "\n",
    "complete_transaction(credit_card, 100)\n",
    "complete_transaction(paypal, 50)\n",
    "complete_transaction(upi, 75)"
   ]
  },
  {
   "cell_type": "code",
   "execution_count": null,
   "id": "0b52c57a",
   "metadata": {},
   "outputs": [],
   "source": []
  }
 ],
 "metadata": {
  "kernelspec": {
   "display_name": "venv",
   "language": "python",
   "name": "python3"
  },
  "language_info": {
   "codemirror_mode": {
    "name": "ipython",
    "version": 3
   },
   "file_extension": ".py",
   "mimetype": "text/x-python",
   "name": "python",
   "nbconvert_exporter": "python",
   "pygments_lexer": "ipython3",
   "version": "3.13.2"
  }
 },
 "nbformat": 4,
 "nbformat_minor": 5
}
